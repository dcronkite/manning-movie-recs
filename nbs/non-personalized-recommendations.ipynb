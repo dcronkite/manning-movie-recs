{
 "cells": [
  {
   "cell_type": "markdown",
   "source": [
    "# Instructions\n",
    "\n",
    "When a user looks at a specific genre of movies, a chart should only show movies in the category (or maybe similar categories). Implement a filter which will only show relevant movies for the category.\n",
    "\n",
    "E.g., business rules like: In animated movies, show chart of movies from animated genre and family movies.\n"
   ],
   "metadata": {
    "collapsed": false
   }
  },
  {
   "cell_type": "markdown",
   "source": [
    "# Report\n",
    "\n",
    "a. The non-personalized feature you will implement (or have implemented).\n",
    "\n",
    "I implemented based on raw values of popularity. Movies with more ratings tended to have better reviews.\n",
    "\n",
    "b. Your chart calculation method.\n",
    "\n",
    "I will present the movies with the most ratings first, for the desired category.\n",
    "Since movies that fit into more than one category have all these categories listed, I can expand the selected category\n",
    " with related values based on the most frequently-appearing related categories.\n",
    "\n",
    "c. Your implementation.\n",
    "\n",
    "(see below)\n",
    "\n",
    "d. How do the genre charts look?\n",
    "\n",
    "Most of the movie suggestions look reasonable, although most are pre-1940s. Perhaps these are the ones that have been the most rated? Or the age is included in default list order so that I'm grabbing the oldest ones first.\n",
    "\n",
    "e. What would you improve if given more time?\n",
    "\n",
    "I can think of a few things to improve:\n",
    "\n",
    "1. Provide a wider variety of 'popular' recommendations for each category. This could be distributed by other genres.\n",
    "2. Combine different genres together.\n",
    "3. Extract year and distribute based on year.\n"
   ],
   "metadata": {
    "collapsed": false,
    "pycharm": {
     "name": "#%% md\n"
    }
   }
  },
  {
   "cell_type": "code",
   "execution_count": 1,
   "outputs": [],
   "source": [
    "import csv\n",
    "import pandas as pd\n",
    "import matplotlib.pyplot as plt\n",
    "import seaborn as sns\n",
    "import pathlib"
   ],
   "metadata": {
    "collapsed": false,
    "pycharm": {
     "name": "#%%\n"
    }
   }
  },
  {
   "cell_type": "code",
   "execution_count": 2,
   "metadata": {
    "collapsed": true
   },
   "outputs": [
    {
     "name": "stderr",
     "output_type": "stream",
     "text": [
      "<ipython-input-2-574fc3100e01>:2: ParserWarning: Falling back to the 'python' engine because the 'c' engine does not support regex separators (separators > 1 char and different from '\\s+' are interpreted as regex); you can avoid this warning by specifying engine='python'.\n",
      "  df = pd.read_csv(r'../data/ratings.dat', sep='::',\n"
     ]
    },
    {
     "data": {
      "text/plain": "(888452, 4)"
     },
     "execution_count": 2,
     "metadata": {},
     "output_type": "execute_result"
    }
   ],
   "source": [
    "# user_id::movie_id::rating::rating_timestamp\n",
    "df = pd.read_csv(r'../data/ratings.dat', sep='::',\n",
    "                 names=['user_id', 'movie_id', 'rating', 'rating_timestamp'])\n",
    "df.shape"
   ]
  },
  {
   "cell_type": "code",
   "execution_count": 44,
   "outputs": [
    {
     "name": "stderr",
     "output_type": "stream",
     "text": [
      "<ipython-input-44-9a15567a8a70>:2: ParserWarning: Falling back to the 'python' engine because the 'c' engine does not support regex separators (separators > 1 char and different from '\\s+' are interpreted as regex); you can avoid this warning by specifying engine='python'.\n",
      "  movie_df = pd.read_csv(r'../data/movies.dat', sep='::',\n"
     ]
    },
    {
     "data": {
      "text/plain": "(36383, 3)"
     },
     "execution_count": 44,
     "metadata": {},
     "output_type": "execute_result"
    }
   ],
   "source": [
    "# movie_id::title::genre1|genre2\n",
    "movie_df = pd.read_csv(r'../data/movies.dat', sep='::',\n",
    "                 names=['movie_id', 'title', 'genres'])\n",
    "movie_df.shape"
   ],
   "metadata": {
    "collapsed": false,
    "pycharm": {
     "name": "#%%\n"
    }
   }
  },
  {
   "cell_type": "code",
   "execution_count": 45,
   "outputs": [],
   "source": [
    "movie_df['genres'] = movie_df['genres'].fillna('')"
   ],
   "metadata": {
    "collapsed": false,
    "pycharm": {
     "name": "#%%\n"
    }
   }
  },
  {
   "cell_type": "code",
   "execution_count": 39,
   "outputs": [],
   "source": [
    "genres = set(movie_df['genres'].str.split('|').dropna().sum())\n",
    "genres.remove('')"
   ],
   "metadata": {
    "collapsed": false,
    "pycharm": {
     "name": "#%%\n"
    }
   }
  },
  {
   "cell_type": "code",
   "execution_count": 49,
   "outputs": [
    {
     "data": {
      "text/plain": "Index(['movie_id', 'title', 'genres', '', 'Mystery', 'Adventure', 'Fantasy',\n       'Romance', 'Animation', 'Film-Noir', 'Game-Show', 'Comedy', 'Drama',\n       'Family', 'Sci-Fi', 'News', 'Reality-TV', 'Short', 'Biography',\n       'Musical', 'Talk-Show', 'Sport', 'Documentary', 'Thriller', 'History',\n       'War', 'Horror', 'Action', 'Crime', 'Music', 'Western', 'Adult'],\n      dtype='object')"
     },
     "execution_count": 49,
     "metadata": {},
     "output_type": "execute_result"
    }
   ],
   "source": [
    "# prepare new columns\n",
    "for genre in genres:\n",
    "    movie_df[genre] = False\n",
    "    movie_df.loc[movie_df['genres'].str.contains(genre), genre] = True\n",
    "\n",
    "movie_df.columns"
   ],
   "metadata": {
    "collapsed": false,
    "pycharm": {
     "name": "#%%\n"
    }
   }
  },
  {
   "cell_type": "code",
   "execution_count": 54,
   "outputs": [],
   "source": [
    "n_rating_df = df.groupby('movie_id').count()['user_id'].reset_index()\n",
    "n_rating_df.columns = ['movie_id', 'n_ratings']\n",
    "\n",
    "pop_movies = n_rating_df[n_rating_df.n_ratings > 10].copy()  # 20% most popular movies\n",
    "pop_df = pd.merge(pop_movies, movie_df).sort_values(by='n_ratings', ascending=False)\n"
   ],
   "metadata": {
    "collapsed": false,
    "pycharm": {
     "name": "#%%\n"
    }
   }
  },
  {
   "cell_type": "code",
   "execution_count": 56,
   "outputs": [],
   "source": [
    "# for each genre, get the 10 most popular films\n",
    "recs = {}\n",
    "for genre in genres:\n",
    "    recs[genre] = list(movie_df[movie_df[genre] == True]['title'].head(10))\n"
   ],
   "metadata": {
    "collapsed": false,
    "pycharm": {
     "name": "#%%\n"
    }
   }
  },
  {
   "cell_type": "code",
   "execution_count": 62,
   "outputs": [],
   "source": [
    "# for each genre, get 2 related genres\n",
    "similar_genres = {}\n",
    "for genre in genres:\n",
    "    curr = list(genres - {genre})\n",
    "    related = movie_df[movie_df[genre] == True][curr].sum().reset_index()\n",
    "    related.columns = ['genre', 'count']\n",
    "    related_genres = list(related.sort_values(by='count', ascending=False)['genre'].head(2))\n",
    "    similar_genres[genre] = related_genres"
   ],
   "metadata": {
    "collapsed": false,
    "pycharm": {
     "name": "#%%\n"
    }
   }
  },
  {
   "cell_type": "code",
   "execution_count": 68,
   "outputs": [],
   "source": [
    "# output data as csv\n",
    "for genre in genres:\n",
    "    with open(f'{genre}.csv', 'w', newline='', encoding='utf8') as fh:\n",
    "        writer = csv.writer(fh)\n",
    "        writer.writerow(['title'])\n",
    "        for item in recs[genre]:\n",
    "            writer.writerow([item])\n",
    "        for sg in similar_genres[genre]:\n",
    "            for item in recs[sg][:3]:\n",
    "                writer.writerow([item])"
   ],
   "metadata": {
    "collapsed": false,
    "pycharm": {
     "name": "#%%\n"
    }
   }
  },
  {
   "cell_type": "code",
   "execution_count": null,
   "outputs": [],
   "source": [],
   "metadata": {
    "collapsed": false,
    "pycharm": {
     "name": "#%%\n"
    }
   }
  }
 ],
 "metadata": {
  "kernelspec": {
   "display_name": "Python 3",
   "language": "python",
   "name": "python3"
  },
  "language_info": {
   "codemirror_mode": {
    "name": "ipython",
    "version": 2
   },
   "file_extension": ".py",
   "mimetype": "text/x-python",
   "name": "python",
   "nbconvert_exporter": "python",
   "pygments_lexer": "ipython2",
   "version": "2.7.6"
  }
 },
 "nbformat": 4,
 "nbformat_minor": 0
}